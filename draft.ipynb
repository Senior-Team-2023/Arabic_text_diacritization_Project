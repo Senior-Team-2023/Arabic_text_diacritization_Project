{
 "cells": [
  {
   "cell_type": "code",
   "execution_count": 1,
   "metadata": {},
   "outputs": [],
   "source": [
    "from Embeddings import Word2Vec\n",
    "from Preprocessing import utils, character_encoding, word_encoding"
   ]
  },
  {
   "cell_type": "code",
   "execution_count": 2,
   "metadata": {},
   "outputs": [
    {
     "name": "stdout",
     "output_type": "stream",
     "text": [
      "training_set قَوْلُهُ : ( أَوْ قَطَعَ الْأَوَّلُ يَدَهُ إلَخْ ) قَالَ الزَّرْكَشِيُّ( 14 / 123 )\n",
      "ابْنُ عَرَفَةَ : قَوْلُهُ : بِلَفْظٍ يَقْتَضِيه كَإِنْكَارِ غَيْرِ حَدِيثٍ بِالْإِسْلَامِ وُجُوبَ مَا عُلِمَ وُجُوبُهُ مِنْ الدِّينِ ضَرُورَةً ( كَإِلْقَاءِ مُصْحَفٍ بِقَذَرٍ وَشَدِّ زُنَّارٍ ) ابْنُ عَرَفَةَ : قَوْلُ ابْنِ شَاسٍ : أَوْ بِفِعْلٍ يَتَضَمَّنُهُ هُوَ كَلُبْسِ الزُّنَّارِ وَإِلْقَاءِ الْمُصْحَفِ فِي صَرِيحِ النَّجَاسَةِ وَالسُّجُودِ لِلصَّنَمِ وَنَحْوِ ذَلِكَ ( وَسِحْرٍ ) مُحَمَّدٌ : قَوْلُ مَالِكٍ و\n",
      "filtered_training_set قَوْلُهُ أَوْ قَطَعَ الْأَوَّلُ يَدَهُ إلَخْ قَالَ الزَّرْكَشِيُّ \n",
      "ابْنُ عَرَفَةَ قَوْلُهُ بِلَفْظٍ يَقْتَضِيه كَإِنْكَارِ غَيْرِ حَدِيثٍ بِالْإِسْلَامِ وُجُوبَ مَا عُلِمَ وُجُوبُهُ مِنْ الدِّينِ ضَرُورَةً كَإِلْقَاءِ مُصْحَفٍ بِقَذَرٍ وَشَدِّ زُنَّارٍ ابْنُ عَرَفَةَ قَوْلُ ابْنِ شَاسٍ أَوْ بِفِعْلٍ يَتَضَمَّنُهُ هُوَ كَلُبْسِ الزُّنَّارِ وَإِلْقَاءِ الْمُصْحَفِ فِي صَرِيحِ النَّجَاسَةِ وَالسُّجُودِ لِلصَّنَمِ وَنَحْوِ ذَلِكَ وَسِحْرٍ مُحَمَّدٌ قَوْلُ مَالِكٍ وَأَصْحَابِهِ أَنَّ السَّاحِرَ كَافِ\n"
     ]
    }
   ],
   "source": [
    "training_set = utils.read_data(f\"./Dataset/train.txt\")\n",
    "print(\"training_set\", training_set[0:500])\n",
    "filtered_training_set = utils.filter_data(training_set)\n",
    "print(\"filtered_training_set\", filtered_training_set[0:500])"
   ]
  },
  {
   "cell_type": "code",
   "execution_count": 3,
   "metadata": {},
   "outputs": [],
   "source": [
    "sentences = utils.split_data_to_sentences(filtered_training_set)\n",
    "list_of_sentences = character_encoding.RemoveDiacriticFromSentence(sentences)\n",
    "# stemmed_sentences = []\n",
    "# for s in list_of_sentences:\n",
    "#     stemmed_sentences.append(word_encoding.StemSentence(s))\n",
    "\n",
    "# for i, s in enumerate(stemmed_sentences[0:20]):\n",
    "#     print(i,\"- \", s)"
   ]
  },
  {
   "cell_type": "code",
   "execution_count": 4,
   "metadata": {},
   "outputs": [],
   "source": [
    "w2v = Word2Vec.W2V(list_of_sentences, vector_size = 50)\n",
    "w2v.train()"
   ]
  },
  {
   "cell_type": "code",
   "execution_count": 5,
   "metadata": {},
   "outputs": [
    {
     "name": "stdout",
     "output_type": "stream",
     "text": [
      "0: في  - Vector: [ 2.2034588  -2.515987    3.0242352   2.0953646  -1.4983461  -0.45456156\n",
      "  1.726277    1.3512309  -1.751067   -0.60298544  1.1145494   1.983233\n",
      " -1.8344803   2.1651943   0.15864162  1.0011582  -0.0078988   1.5945597\n",
      " -0.95147336 -3.1485517   1.4805856   1.1271174   1.3123735   1.1861966\n",
      "  1.7771851  -0.9316561   4.109284   -2.7038984  -3.181125   -0.6128614\n",
      " -1.2723633  -0.813409   -0.68559587  1.3633946   1.1794969   2.511084\n",
      "  3.7403467  -2.791839   -0.07368554 -3.5428054  -0.01756048 -0.89966625\n",
      "  0.07945572  1.6682137   0.24010743  0.6516555  -2.5413208   1.8712331\n",
      "  0.41255656  0.83011544]\n",
      "1: من  - Vector: [-1.2948669   0.4291759  -0.52053547  0.58493125 -0.15262736 -2.2219484\n",
      "  3.826154   -0.40112296 -0.3904321  -1.5141197  -0.60399866  0.15513632\n",
      " -1.5408984  -2.2180495  -0.08923083  1.9324783   2.6916845   1.4633741\n",
      "  0.14189222 -0.5361178  -0.81836945  2.230844    0.2892309  -0.6018475\n",
      " -0.9959703   1.2532865   4.3446555   0.72359276 -1.23697    -2.016549\n",
      " -2.0364337  -1.670348    0.13204469  3.1771967   0.61354345  0.4765626\n",
      "  3.5551856  -0.0766654   0.71740204  0.23296252  0.6563864  -2.5649803\n",
      "  0.7546781   2.392024    1.0289564  -2.1080909  -3.7736905  -0.7427228\n",
      "  0.79252774 -0.03191217]\n"
     ]
    }
   ],
   "source": [
    "embeddings = list(w2v.Word_embeddings().key_to_index.keys())\n",
    "for i, word in enumerate(embeddings[0:2]):\n",
    "    vector = w2v.vector(word)\n",
    "    print(f\"{i}: {word}  - Vector: {vector}\")"
   ]
  },
  {
   "cell_type": "code",
   "execution_count": 7,
   "metadata": {},
   "outputs": [
    {
     "name": "stdout",
     "output_type": "stream",
     "text": [
      "Similarity between 'قتل' and 'من':  0.28272146\n"
     ]
    }
   ],
   "source": [
    "i = 22\n",
    "\n",
    "j = 2122\n",
    "\n",
    "w1 ='قتل'\n",
    "w2 = 'من'\n",
    "print(f\"Similarity between '{w1}' and '{w2}': \", w2v.Cos_similarity(w1, w2))"
   ]
  }
 ],
 "metadata": {
  "kernelspec": {
   "display_name": "base",
   "language": "python",
   "name": "python3"
  },
  "language_info": {
   "codemirror_mode": {
    "name": "ipython",
    "version": 3
   },
   "file_extension": ".py",
   "mimetype": "text/x-python",
   "name": "python",
   "nbconvert_exporter": "python",
   "pygments_lexer": "ipython3",
   "version": "3.11.5"
  }
 },
 "nbformat": 4,
 "nbformat_minor": 2
}
