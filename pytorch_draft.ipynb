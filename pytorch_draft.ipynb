{
 "cells": [
  {
   "cell_type": "markdown",
   "metadata": {},
   "source": [
    "## Read data from train.txt and filter it from unwanted patterns\n"
   ]
  },
  {
   "cell_type": "code",
   "execution_count": 46,
   "metadata": {},
   "outputs": [],
   "source": [
    "import numpy as np\n",
    "import torch\n",
    "import torch.nn as nn\n",
    "from torch.utils.data import Dataset, DataLoader\n",
    "from Preprocessing import utils, character_encoding\n",
    "from Models import rnn_pytorch\n",
    "import config as conf\n",
    "\n",
    "# config = conf.ConfigLoader().load_config()"
   ]
  },
  {
   "cell_type": "code",
   "execution_count": 47,
   "metadata": {},
   "outputs": [],
   "source": [
    "VECTOR_SIZE = 10\n",
    "\n",
    "NUM_TRAIN_LINES = 10\n",
    "NUM_TEST_LINES = 2\n",
    "PADDING_SIZE = 150\n",
    "\n",
    "MODEL = 'lstm'\n",
    "NUM_EPOCHS = 200\n",
    "HIDDEN_SIZE = 1000\n",
    "LEARNING_RATE = 0.001\n",
    "BATCH_SIZE = 1"
   ]
  },
  {
   "cell_type": "markdown",
   "metadata": {},
   "source": [
    "## Preprocessing\n"
   ]
  },
  {
   "cell_type": "markdown",
   "metadata": {},
   "source": [
    "## Feature Extraction\n"
   ]
  },
  {
   "cell_type": "markdown",
   "metadata": {},
   "source": [
    "Split training data to sentences and remove diacritics from each sentence\n"
   ]
  },
  {
   "cell_type": "code",
   "execution_count": 48,
   "metadata": {},
   "outputs": [],
   "source": [
    "class CustomDataset(Dataset):\n",
    "    def __init__(self, test = False, eval = False, testdata = None):\n",
    "        if test:\n",
    "            dataset = testdata\n",
    "            self.filtered_dataset = utils.filter_data(dataset)\n",
    "            self.data = utils.split_data_to_sentences(self.filtered_dataset)[0:NUM_TEST_LINES]\n",
    "        elif eval:\n",
    "            dataset = utils.read_data(\"./dataset/val.txt\")\n",
    "            self.filtered_dataset = utils.filter_data(dataset)\n",
    "            self.data = utils.split_data_to_sentences(self.filtered_dataset)[0:NUM_TRAIN_LINES]\n",
    "        else:\n",
    "            dataset = utils.read_data(\"./dataset/train.txt\")\n",
    "            self.filtered_dataset = utils.filter_data(dataset)\n",
    "            self.data = utils.split_data_to_sentences(self.filtered_dataset)[0:NUM_TRAIN_LINES]\n",
    "        self.max_length = PADDING_SIZE\n",
    "\n",
    "    def __getitem__(self, index):\n",
    "        sentence = self.data[index]\n",
    "        # separate data (sentence) and label (diacritic of each character)\n",
    "        sentence, diactritic = character_encoding.remove_diacritics(sentence, True)\n",
    "        # get sentence vector\n",
    "        sentence = character_encoding.getSentenceVector(sentence)\n",
    "        # get diacritic vector\n",
    "        diactritic = character_encoding.getDiacriticVector(diactritic)\n",
    "        # add padding to sentence vector or clip it\n",
    "        sentence,original_length = character_encoding.padding(sentence, len(character_encoding.ARABIC_ALPHABIT) +1,max_length=self.max_length)\n",
    "        diactritic,_ = character_encoding.padding(diactritic, len(character_encoding.DIACRITICS),max_length=self.max_length)\n",
    "        # convert to tensor\n",
    "        sentence = torch.tensor(sentence, dtype=(torch.float32))\n",
    "        diactritic = torch.tensor(diactritic, dtype=(torch.float32))\n",
    "        return sentence, diactritic, original_length \n",
    "\n",
    "    def __len__(self):\n",
    "        return len(self.data)"
   ]
  },
  {
   "cell_type": "markdown",
   "metadata": {},
   "source": [
    "## Building The Model\n"
   ]
  },
  {
   "cell_type": "markdown",
   "metadata": {},
   "source": [
    "#### connect to GPU if available\n"
   ]
  },
  {
   "cell_type": "code",
   "execution_count": 49,
   "metadata": {},
   "outputs": [
    {
     "name": "stdout",
     "output_type": "stream",
     "text": [
      "Device =  cuda:0\n",
      "Cuda :  True\n",
      "Number of Cuda devices : 1\n"
     ]
    }
   ],
   "source": [
    "device = torch.device(\"cuda:0\" if torch.cuda.is_available() else \"cpu\")\n",
    "print(\"Device = \" ,device)\n",
    "print(\"Cuda : \",torch.cuda.is_available())\n",
    "print(\"Number of Cuda devices :\", torch.cuda.device_count())"
   ]
  },
  {
   "cell_type": "code",
   "execution_count": 50,
   "metadata": {},
   "outputs": [],
   "source": [
    "input_size = len(character_encoding.ARABIC_ALPHABIT) + 1\n",
    "hidden_size = HIDDEN_SIZE\n",
    "output_size = len(character_encoding.DIACRITICS)"
   ]
  },
  {
   "cell_type": "code",
   "execution_count": 51,
   "metadata": {},
   "outputs": [
    {
     "data": {
      "text/plain": [
       "LSTMClassifier(\n",
       "  (lstm): LSTM(38, 1000, batch_first=True)\n",
       "  (out): Sequential(\n",
       "    (0): Linear(in_features=1000, out_features=64, bias=True)\n",
       "    (1): Tanh()\n",
       "    (2): Linear(in_features=64, out_features=15, bias=True)\n",
       "  )\n",
       ")"
      ]
     },
     "execution_count": 51,
     "metadata": {},
     "output_type": "execute_result"
    }
   ],
   "source": [
    "# Create an instance of the RNN classifier\n",
    "if MODEL == 'rnn':\n",
    "    model = rnn_pytorch.RNNClassifier(input_size, hidden_size, output_size)\n",
    "\n",
    "# Creare an instance of the LSTM classifier\n",
    "elif MODEL == 'lstm':\n",
    "    model = rnn_pytorch.LSTMClassifier(input_size, hidden_size, output_size)\n",
    "model.to(device)"
   ]
  },
  {
   "cell_type": "code",
   "execution_count": 52,
   "metadata": {},
   "outputs": [],
   "source": [
    "batch_size = BATCH_SIZE\n",
    "dataset = CustomDataset()\n",
    "# Create a dataloader to handle batching and shuffling\n",
    "train_dataloader = DataLoader(dataset, batch_size=batch_size, shuffle=True)"
   ]
  },
  {
   "cell_type": "code",
   "execution_count": 53,
   "metadata": {},
   "outputs": [],
   "source": [
    "# Define loss function and optimizer\n",
    "criterion = nn.CrossEntropyLoss()\n",
    "optimizer = torch.optim.Adam(model.parameters(), lr=LEARNING_RATE)"
   ]
  },
  {
   "cell_type": "code",
   "execution_count": 54,
   "metadata": {},
   "outputs": [
    {
     "name": "stdout",
     "output_type": "stream",
     "text": [
      "Epoch 1/200, Loss: 13.977930068969727\n",
      "Epoch 2/200, Loss: 22.512304306030273\n",
      "Epoch 3/200, Loss: 49.167633056640625\n",
      "Epoch 4/200, Loss: 48.43729019165039\n",
      "Epoch 5/200, Loss: 45.93044662475586\n",
      "Epoch 6/200, Loss: 11.65626049041748\n",
      "Epoch 7/200, Loss: 28.40334129333496\n",
      "Epoch 8/200, Loss: 43.9199333190918\n",
      "Epoch 9/200, Loss: 37.273799896240234\n",
      "Epoch 10/200, Loss: 17.44894790649414\n",
      "Epoch 11/200, Loss: 44.824790954589844\n",
      "Epoch 12/200, Loss: 26.138437271118164\n",
      "Epoch 13/200, Loss: 9.391480445861816\n",
      "Epoch 14/200, Loss: 43.589820861816406\n",
      "Epoch 15/200, Loss: 25.496326446533203\n",
      "Epoch 16/200, Loss: 9.021190643310547\n",
      "Epoch 17/200, Loss: 3.015533685684204\n",
      "Epoch 18/200, Loss: 42.85832595825195\n",
      "Epoch 19/200, Loss: 7.821408271789551\n",
      "Epoch 20/200, Loss: 2.494396686553955\n",
      "Epoch 21/200, Loss: 24.895715713500977\n",
      "Epoch 22/200, Loss: 7.977907657623291\n",
      "Epoch 23/200, Loss: 24.187211990356445\n",
      "Epoch 24/200, Loss: 23.618595123291016\n",
      "Epoch 25/200, Loss: 23.2801513671875\n",
      "Epoch 26/200, Loss: 23.004425048828125\n",
      "Epoch 27/200, Loss: 39.298919677734375\n",
      "Epoch 28/200, Loss: 2.2355237007141113\n",
      "Epoch 29/200, Loss: 39.084075927734375\n",
      "Epoch 30/200, Loss: 38.39493942260742\n",
      "Epoch 31/200, Loss: 37.919986724853516\n",
      "Epoch 32/200, Loss: 13.692483901977539\n",
      "Epoch 33/200, Loss: 37.73659896850586\n",
      "Epoch 34/200, Loss: 13.411231994628906\n",
      "Epoch 35/200, Loss: 31.41826629638672\n",
      "Epoch 36/200, Loss: 1.8823003768920898\n",
      "Epoch 37/200, Loss: 36.084327697753906\n",
      "Epoch 38/200, Loss: 36.966636657714844\n",
      "Epoch 39/200, Loss: 6.085199356079102\n",
      "Epoch 40/200, Loss: 35.8973388671875\n",
      "Epoch 41/200, Loss: 12.781596183776855\n",
      "Epoch 42/200, Loss: 24.36741828918457\n",
      "Epoch 43/200, Loss: 13.933655738830566\n",
      "Epoch 44/200, Loss: 7.5238447189331055\n",
      "Epoch 45/200, Loss: 36.83530807495117\n",
      "Epoch 46/200, Loss: 6.115066051483154\n",
      "Epoch 47/200, Loss: 6.9181623458862305\n",
      "Epoch 48/200, Loss: 6.778378486633301\n",
      "Epoch 49/200, Loss: 1.7611539363861084\n",
      "Epoch 50/200, Loss: 34.76334762573242\n",
      "Epoch 51/200, Loss: 1.6715295314788818\n",
      "Epoch 52/200, Loss: 12.123902320861816\n",
      "Epoch 53/200, Loss: 35.127044677734375\n",
      "Epoch 54/200, Loss: 35.1068000793457\n",
      "Epoch 55/200, Loss: 1.605459213256836\n",
      "Epoch 56/200, Loss: 1.603340744972229\n",
      "Epoch 57/200, Loss: 28.670330047607422\n",
      "Epoch 58/200, Loss: 20.211931228637695\n",
      "Epoch 59/200, Loss: 34.0802001953125\n",
      "Epoch 60/200, Loss: 33.31768035888672\n",
      "Epoch 61/200, Loss: 5.4511823654174805\n",
      "Epoch 62/200, Loss: 33.40888214111328\n",
      "Epoch 63/200, Loss: 33.81193923950195\n",
      "Epoch 64/200, Loss: 34.702972412109375\n",
      "Epoch 65/200, Loss: 6.4853291511535645\n",
      "Epoch 66/200, Loss: 19.80568504333496\n",
      "Epoch 67/200, Loss: 6.500267028808594\n",
      "Epoch 68/200, Loss: 34.59073257446289\n",
      "Epoch 69/200, Loss: 33.061424255371094\n",
      "Epoch 70/200, Loss: 28.128536224365234\n",
      "Epoch 71/200, Loss: 28.123445510864258\n",
      "Epoch 72/200, Loss: 19.728275299072266\n",
      "Epoch 73/200, Loss: 34.54551315307617\n",
      "Epoch 74/200, Loss: 1.475592851638794\n",
      "Epoch 75/200, Loss: 11.5758695602417\n",
      "Epoch 76/200, Loss: 6.390523433685303\n",
      "Epoch 77/200, Loss: 27.980960845947266\n",
      "Epoch 78/200, Loss: 1.4624420404434204\n",
      "Epoch 79/200, Loss: 34.429786682128906\n",
      "Epoch 80/200, Loss: 33.47190856933594\n",
      "Epoch 81/200, Loss: 5.256434440612793\n",
      "Epoch 82/200, Loss: 27.959033966064453\n",
      "Epoch 83/200, Loss: 27.93563461303711\n",
      "Epoch 84/200, Loss: 6.387539386749268\n",
      "Epoch 85/200, Loss: 34.364662170410156\n",
      "Epoch 86/200, Loss: 34.37430953979492\n",
      "Epoch 87/200, Loss: 5.266582489013672\n",
      "Epoch 88/200, Loss: 32.79249954223633\n",
      "Epoch 89/200, Loss: 32.789337158203125\n",
      "Epoch 90/200, Loss: 32.7812614440918\n",
      "Epoch 91/200, Loss: 19.634201049804688\n",
      "Epoch 92/200, Loss: 32.86668014526367\n",
      "Epoch 93/200, Loss: 5.247256755828857\n",
      "Epoch 94/200, Loss: 19.692363739013672\n",
      "Epoch 95/200, Loss: 28.009326934814453\n",
      "Epoch 96/200, Loss: 28.034746170043945\n",
      "Epoch 97/200, Loss: 19.644466400146484\n",
      "Epoch 98/200, Loss: 19.64735984802246\n",
      "Epoch 99/200, Loss: 6.348528861999512\n",
      "Epoch 100/200, Loss: 5.289600849151611\n",
      "Epoch 101/200, Loss: 33.384544372558594\n",
      "Epoch 102/200, Loss: 34.40943145751953\n",
      "Epoch 103/200, Loss: 19.654394149780273\n",
      "Epoch 104/200, Loss: 32.755760192871094\n",
      "Epoch 105/200, Loss: 32.753387451171875\n",
      "Epoch 106/200, Loss: 19.61137580871582\n",
      "Epoch 107/200, Loss: 11.515263557434082\n",
      "Epoch 108/200, Loss: 11.507966041564941\n",
      "Epoch 109/200, Loss: 27.76183319091797\n",
      "Epoch 110/200, Loss: 33.24555206298828\n",
      "Epoch 111/200, Loss: 27.756336212158203\n",
      "Epoch 112/200, Loss: 6.338081359863281\n",
      "Epoch 113/200, Loss: 32.67041015625\n",
      "Epoch 114/200, Loss: 27.783130645751953\n",
      "Epoch 115/200, Loss: 5.232466697692871\n",
      "Epoch 116/200, Loss: 19.603525161743164\n",
      "Epoch 117/200, Loss: 27.795286178588867\n",
      "Epoch 118/200, Loss: 27.775306701660156\n",
      "Epoch 119/200, Loss: 19.61077117919922\n",
      "Epoch 120/200, Loss: 33.24677658081055\n",
      "Epoch 121/200, Loss: 1.4455487728118896\n",
      "Epoch 122/200, Loss: 6.330600738525391\n",
      "Epoch 123/200, Loss: 11.503150939941406\n",
      "Epoch 124/200, Loss: 19.601341247558594\n",
      "Epoch 125/200, Loss: 5.2369489669799805\n",
      "Epoch 126/200, Loss: 33.25013732910156\n",
      "Epoch 127/200, Loss: 34.2766227722168\n",
      "Epoch 128/200, Loss: 33.24396896362305\n",
      "Epoch 129/200, Loss: 27.76051902770996\n",
      "Epoch 130/200, Loss: 19.59834861755371\n",
      "Epoch 131/200, Loss: 1.4446154832839966\n",
      "Epoch 132/200, Loss: 27.752939224243164\n",
      "Epoch 133/200, Loss: 34.271419525146484\n",
      "Epoch 134/200, Loss: 11.494549751281738\n",
      "Epoch 135/200, Loss: 33.25008010864258\n",
      "Epoch 136/200, Loss: 1.4457098245620728\n",
      "Epoch 137/200, Loss: 34.258750915527344\n",
      "Epoch 138/200, Loss: 27.767681121826172\n",
      "Epoch 139/200, Loss: 11.499161720275879\n",
      "Epoch 140/200, Loss: 27.805438995361328\n",
      "Epoch 141/200, Loss: 34.29395294189453\n",
      "Epoch 142/200, Loss: 19.591459274291992\n",
      "Epoch 143/200, Loss: 6.331716060638428\n",
      "Epoch 144/200, Loss: 1.4442564249038696\n",
      "Epoch 145/200, Loss: 34.265010833740234\n",
      "Epoch 146/200, Loss: 32.66822814941406\n",
      "Epoch 147/200, Loss: 34.27115249633789\n",
      "Epoch 148/200, Loss: 32.68042755126953\n",
      "Epoch 149/200, Loss: 27.73501205444336\n",
      "Epoch 150/200, Loss: 5.220637321472168\n",
      "Epoch 151/200, Loss: 5.220257759094238\n",
      "Epoch 152/200, Loss: 1.4424574375152588\n",
      "Epoch 153/200, Loss: 19.70280647277832\n",
      "Epoch 154/200, Loss: 32.64104461669922\n",
      "Epoch 155/200, Loss: 19.70208168029785\n",
      "Epoch 156/200, Loss: 33.204097747802734\n",
      "Epoch 157/200, Loss: 33.210601806640625\n",
      "Epoch 158/200, Loss: 27.72753143310547\n",
      "Epoch 159/200, Loss: 19.576332092285156\n",
      "Epoch 160/200, Loss: 5.219250202178955\n",
      "Epoch 161/200, Loss: 1.4419636726379395\n",
      "Epoch 162/200, Loss: 5.222263813018799\n",
      "Epoch 163/200, Loss: 34.2596549987793\n",
      "Epoch 164/200, Loss: 5.224214553833008\n",
      "Epoch 165/200, Loss: 11.509550094604492\n",
      "Epoch 166/200, Loss: 5.22761344909668\n",
      "Epoch 167/200, Loss: 34.40493392944336\n",
      "Epoch 168/200, Loss: 6.434650897979736\n",
      "Epoch 169/200, Loss: 5.430561542510986\n",
      "Epoch 170/200, Loss: 20.53551483154297\n",
      "Epoch 171/200, Loss: 36.42107391357422\n",
      "Epoch 172/200, Loss: 35.419525146484375\n",
      "Epoch 173/200, Loss: 34.23973083496094\n",
      "Epoch 174/200, Loss: 1.4802969694137573\n",
      "Epoch 175/200, Loss: 5.414573669433594\n",
      "Epoch 176/200, Loss: 27.987855911254883\n",
      "Epoch 177/200, Loss: 1.4693158864974976\n",
      "Epoch 178/200, Loss: 5.262153625488281\n",
      "Epoch 179/200, Loss: 32.886444091796875\n",
      "Epoch 180/200, Loss: 6.377002239227295\n",
      "Epoch 181/200, Loss: 19.756671905517578\n",
      "Epoch 182/200, Loss: 19.74582290649414\n",
      "Epoch 183/200, Loss: 19.738475799560547\n",
      "Epoch 184/200, Loss: 19.604515075683594\n",
      "Epoch 185/200, Loss: 11.506820678710938\n",
      "Epoch 186/200, Loss: 33.2346305847168\n",
      "Epoch 187/200, Loss: 34.287864685058594\n",
      "Epoch 188/200, Loss: 32.66633224487305\n",
      "Epoch 189/200, Loss: 34.26090621948242\n",
      "Epoch 190/200, Loss: 34.26494216918945\n",
      "Epoch 191/200, Loss: 5.223505973815918\n",
      "Epoch 192/200, Loss: 27.73419761657715\n",
      "Epoch 193/200, Loss: 1.4446765184402466\n",
      "Epoch 194/200, Loss: 19.582073211669922\n",
      "Epoch 195/200, Loss: 34.25144577026367\n",
      "Epoch 196/200, Loss: 27.728200912475586\n",
      "Epoch 197/200, Loss: 19.705774307250977\n",
      "Epoch 198/200, Loss: 34.24897003173828\n",
      "Epoch 199/200, Loss: 11.488102912902832\n",
      "Epoch 200/200, Loss: 19.577552795410156\n"
     ]
    }
   ],
   "source": [
    "num_epochs = NUM_EPOCHS\n",
    "# Training loop\n",
    "for epoch in range(num_epochs):\n",
    "    for i, (sentences, labels, _) in enumerate(train_dataloader): \n",
    "        # Reshape input and labels to (batch_size, seq_length, input_size)\n",
    "        sentences = sentences.view(batch_size, -1,input_size).to(device)\n",
    "        labels = labels.view(batch_size, -1, output_size).to(device)\n",
    "        # RNN\n",
    "        if MODEL == 'rnn':\n",
    "            hidden_state = model.init_hidden(batch_size=batch_size).to(device) # RNN has one hidden state\n",
    "            optimizer.zero_grad()\n",
    "            outputs = model(sentences, hidden_state)\n",
    "        \n",
    "        # LSTM\n",
    "        elif MODEL == 'lstm':\n",
    "            hidden_state, cell_state = model.init_hidden(batch_size=batch_size)  # LSTM has two hidden states\n",
    "            hidden_state = hidden_state.to(device)\n",
    "            cell_state = cell_state.to(device)\n",
    "            optimizer.zero_grad()\n",
    "            outputs = model(sentences, (hidden_state, cell_state))\n",
    "\n",
    "        \n",
    "        \n",
    "        # calculate the loss\n",
    "        loss = criterion(outputs, labels)\n",
    "        # backward pass\n",
    "        loss.backward()\n",
    "        # update the weights\n",
    "        optimizer.step()\n",
    "        \n",
    "\n",
    "    print(f'Epoch {epoch+1}/{num_epochs}, Loss: {loss.item()}')\n",
    "# torch.save(model.state_dict(), 'model.pth')"
   ]
  },
  {
   "cell_type": "markdown",
   "metadata": {},
   "source": [
    "## Model Evaluation\n"
   ]
  },
  {
   "cell_type": "markdown",
   "metadata": {},
   "source": [
    "Preparing Validation data to be passed into the `model.evaluate()`\n"
   ]
  },
  {
   "cell_type": "markdown",
   "metadata": {},
   "source": [
    "# Testing\n"
   ]
  },
  {
   "cell_type": "markdown",
   "metadata": {},
   "source": [
    "testing on a given sentence\n"
   ]
  },
  {
   "cell_type": "code",
   "execution_count": 55,
   "metadata": {},
   "outputs": [
    {
     "name": "stdout",
     "output_type": "stream",
     "text": [
      "Average Evaluation Loss: 43.768162155151366\n"
     ]
    }
   ],
   "source": [
    "# Assuming you have a test dataset prepared in the same format as your training dataset\n",
    "eval_dataset = CustomDataset(eval=True)  # You'll need to modify your CustomDataset class to accept this parameter and load the eval data\n",
    "eval_dataloader = DataLoader(eval_dataset, batch_size = batch_size)\n",
    "\n",
    "# Switch the model to evaluation mode\n",
    "model.eval()\n",
    "\n",
    "# Initialize the test loss\n",
    "test_loss = 0\n",
    "\n",
    "# We don't need to compute gradients during evaluation, so we wrap this in torch.no_grad()\n",
    "with torch.no_grad():\n",
    "    for sentences, labels, _ in eval_dataloader:\n",
    "        sentences = sentences.view(batch_size, -1, input_size).to(device)\n",
    "        labels = labels.view(batch_size, -1, output_size).to(device)\n",
    "        # RNN\n",
    "        if MODEL == 'rnn':\n",
    "            hidden_state = model.init_hidden(batch_size=batch_size).to(device) # RNN has one hidden state\n",
    "            outputs = model(sentences, hidden_state)\n",
    "        \n",
    "        # LSTM\n",
    "        elif MODEL == 'lstm':\n",
    "            hidden_state, cell_state = model.init_hidden(batch_size=batch_size)  # LSTM has two hidden states\n",
    "            hidden_state = hidden_state.to(device)\n",
    "            cell_state = cell_state.to(device)\n",
    "            outputs = model(sentences, (hidden_state, cell_state))\n",
    "\n",
    "        # Compute the loss\n",
    "        loss = criterion(outputs, labels)\n",
    "\n",
    "        # Accumulate the test loss\n",
    "        test_loss += loss.item()\n",
    "\n",
    "# Compute the average test loss\n",
    "avg_test_loss = test_loss / len(eval_dataloader)\n",
    "\n",
    "print(f'Average Evaluation Loss: {avg_test_loss}')\n"
   ]
  },
  {
   "cell_type": "code",
   "execution_count": 56,
   "metadata": {},
   "outputs": [],
   "source": [
    "def index_to_char(indeces_list):\n",
    "    char_list = []\n",
    "    for index in indeces_list:\n",
    "        char_list.append(character_encoding.DIACRITICS[index])\n",
    "    return char_list"
   ]
  },
  {
   "cell_type": "code",
   "execution_count": 57,
   "metadata": {},
   "outputs": [],
   "source": [
    "training_set = utils.read_data(f\"./Dataset/train.txt\")\n",
    "filtered_training_set = utils.filter_data(training_set)\n",
    "test_sentences = utils.split_data_to_sentences(filtered_training_set)[0:1]"
   ]
  },
  {
   "cell_type": "code",
   "execution_count": 58,
   "metadata": {},
   "outputs": [
    {
     "name": "stdout",
     "output_type": "stream",
     "text": [
      "Sentences diacritics prediction :  (2, 150)\n",
      "Sentences Without diacritics    :  (2, 150, 38)\n",
      "Original diacritics             :  (2, 150, 15)\n"
     ]
    }
   ],
   "source": [
    "# Assuming you have a test dataset prepared in the same format as your training dataset\n",
    "test_dataset = CustomDataset(test=True, testdata = training_set) \n",
    "test_dataloader = DataLoader(test_dataset, batch_size = batch_size)\n",
    "\n",
    "# Switch the model to evaluation mode\n",
    "model.eval()\n",
    "\n",
    "# We don't need to compute gradients during evaluation, so we wrap this in torch.no_grad()\n",
    "sentences_diacritics_prediction = []\n",
    "sentences_without_diacritics = []\n",
    "original_diacritics = []\n",
    "original_sentences_len = []\n",
    "with torch.no_grad():\n",
    "    for sentences, labels, sentence_length in test_dataloader:\n",
    "        original_sentences_len.append(sentence_length)\n",
    "        sentences_without_diacritics.extend(sentences)\n",
    "        original_diacritics.extend(labels)\n",
    "        sentences = sentences.view(batch_size, -1, input_size).to(device)\n",
    "        labels = labels.view(batch_size, -1, output_size).to(device)\n",
    "        # RNN\n",
    "        if MODEL == 'rnn':\n",
    "            hidden_state = model.init_hidden(batch_size=batch_size).to(device) # RNN has one hidden state\n",
    "            outputs = model(sentences, hidden_state)\n",
    "        \n",
    "        \n",
    "        # LSTM\n",
    "        elif MODEL == 'lstm':\n",
    "            hidden_state, cell_state = model.init_hidden(batch_size=batch_size)  # LSTM has two hidden states\n",
    "            hidden_state = hidden_state.to(device)\n",
    "            cell_state = cell_state.to(device)\n",
    "            outputs = model(sentences, (hidden_state, cell_state))\n",
    "\n",
    "        sentences_diacritics_prediction.extend(outputs.argmax(dim=2).cpu()) \n",
    "\n",
    "sentences_diacritics_prediction = np.array(sentences_diacritics_prediction)\n",
    "sentences_without_diacritics = np.array(sentences_without_diacritics)\n",
    "original_diacritics = np.array(original_diacritics)\n",
    "\n",
    "print(\"Sentences diacritics prediction : \",sentences_diacritics_prediction.shape)\n",
    "print(\"Sentences Without diacritics    : \",sentences_without_diacritics.shape)\n",
    "print(\"Original diacritics             : \",original_diacritics.shape)"
   ]
  },
  {
   "cell_type": "code",
   "execution_count": 59,
   "metadata": {},
   "outputs": [],
   "source": [
    "# # Switch the model to evaluation mode\n",
    "# model.eval()\n",
    "# # Assume 'input_sentence' is your input sentence\n",
    "# input_sentence = test_sentences[0]\n",
    "# print(\"Input sentence : \",input_sentence)\n",
    "\n",
    "# # Process the input_sentence in the same way as you did for your training data\n",
    "# sentence_without_diacritics, original_diacritics = character_encoding.remove_diacritics(input_sentence, True)\n",
    "# sentence = character_encoding.getSentenceVector(sentence_without_diacritics)\n",
    "# sentence,_ = character_encoding.padding(sentence, len(character_encoding.ARABIC_ALPHABIT) + 2, max_length=PADDING_SIZE)\n",
    "# diacritic = character_encoding.getDiacriticVector(original_diacritics)\n",
    "# diacritic,_ = character_encoding.padding(diacritic, len(character_encoding.DIACRITICS), max_length=PADDING_SIZE)\n",
    "# sentence = torch.tensor(sentence, dtype=(torch.float32)).unsqueeze(0).to(device)  # Add an extra dimension for batch and move to device\n",
    "\n",
    "# # We don't need to compute gradients during evaluation, so we wrap this in torch.no_grad()\n",
    "# with torch.no_grad():\n",
    "#     hidden = model.init_hidden(batch_size=1).to(device)  # Batch size is 1 for inference\n",
    "#     # Forward pass\n",
    "#     output = model(sentence, hidden)\n",
    "# print(sentence.shape)\n",
    "\n",
    "# # The output is the model's prediction, you might want to post-process this output to convert it back into a readable format\n",
    "# prediction = output.argmax(dim=2)  # This gives you the index of the highest value in the output tensor\n"
   ]
  },
  {
   "cell_type": "code",
   "execution_count": 60,
   "metadata": {},
   "outputs": [],
   "source": [
    "# predicted_diacritics = index_to_char(prediction[0])\n",
    "# der, miss = diacritics_error_rate(original_diacritics, predicted_diacritics)\n",
    "# print(\"Diacritics error rate : \", der, \"%\")\n",
    "# print(\"Correct diacritics rate : \", 100 - der, \"%\")\n",
    "# print(\"Number of miss : \", miss, \"out of \", len(original_diacritics))\n",
    "# print(\"Original Sentence : \", input_sentence)\n",
    "# restored_sentence = character_encoding.restore_diacritics(sentence_without_diacritics,predicted_diacritics)\n",
    "# print(\"Restored Sentence : \", restored_sentence)\n",
    "# print(\"Original diacritics : \", character_encoding.map_text_to_diacritic(original_diacritics))\n",
    "# print(\"Predicted diacritics : \",character_encoding.map_text_to_diacritic( predicted_diacritics))"
   ]
  },
  {
   "cell_type": "code",
   "execution_count": 61,
   "metadata": {},
   "outputs": [
    {
     "name": "stdout",
     "output_type": "stream",
     "text": [
      "Original Sentence :  قَوْلُهُ أَوْ قَطَعَ الْأَوَّلُ يَدَهُ إلَخْ قَالَ الزَّرْكَشِيُّ \n",
      "Restored Sentence :  قَوْلُهُ أَوْ قَطَعَ الْأَوَّلُ يَدَهُ إلَخْ قَالَ الزَّرْكَشِيُّ \n",
      "0.0 %\n",
      "Original Sentence :  ابْنُ عَرَفَةَ قَوْلُهُ بِلَفْظٍ يَقْتَضِيه كَإِنْكَارِ غَيْرِ حَدِيثٍ بِالْإِسْلَامِ وُجُوبَ مَا عُلِمَ وُجُوبُهُ مِنْ الدِّينِ ضَرُورَةً كَإِلْقَاءِ مُصْحَفٍ بِقَذَرٍ وَشَدِّ زُنَّارٍ ابْنُ عَرَفَةَ قَوْلُ ابْنِ شَاسٍ أَوْ بِفِعْلٍ يَتَضَمَّنُهُ هُوَ كَ\n",
      "Restored Sentence :  ابْنُ عَرَفَةَ قَوْلُهُ بِلَفْظٍ يَقْتَضِيه كَإِنْكَارِ غَيْرِ حَدِيثٍ بِالْإِسْلَامِ وُجُوبَ مَا عُلِمَ وُجُوبُهُ مِنْ الدِّينِ ضَرُورَةً كَإِلْقَاءِ مُصْحَفٍ بِقَذَرٍ وَشَدِّ زُنَّارٍ ابْنُ عَرَفَةَ قَوْلُ ابْنِ شَاسٍ أَوْ بِفِعْلٍ يَتَضَمَّنُهُ هُوَ كَ\n",
      "0.0 %\n",
      "Diacritic Error Rate =  0.0 %\n",
      "Diacritic Correct Rate =  100.0 %\n",
      "Number of Misclassified =  0 out of 188\n"
     ]
    }
   ],
   "source": [
    "# Convert the prediction tensor to the corresponding diacritics\n",
    "predicted_diacritics = []\n",
    "diacritic_error_rate = 0\n",
    "number_of_mis_classified = 0\n",
    "number_of_char_to_classify = 0\n",
    "for i, p in enumerate(sentences_diacritics_prediction):\n",
    "    pred = index_to_char(p)\n",
    "    predicted_diacritics.append(pred)\n",
    "    s = character_encoding.oneHot_to_sentence(sentences_without_diacritics[i][0:original_sentences_len[i]]) # sentence without diacritics\n",
    "    d = character_encoding.oneHot_to_diacritic(original_diacritics[i][0:original_sentences_len[i]])         # original diacritics of the sentence\n",
    "    original_text = character_encoding.restore_diacritics(s, d)\n",
    "    print(\"Original Sentence : \", original_text)\n",
    "    restored_text = character_encoding.restore_diacritics(s, pred)\n",
    "    print(\"Restored Sentence : \", restored_text)\n",
    "    diac, miss = character_encoding.diacritics_error_rate(d, pred)\n",
    "    print(diac,\"%\")\n",
    "    diacritic_error_rate += diac\n",
    "    number_of_mis_classified += miss\n",
    "    number_of_char_to_classify += int(original_sentences_len[i][0]) if len(pred) > original_sentences_len[i] else len(pred)\n",
    "\n",
    "\n",
    "diacritic_error_rate /= len(sentences_diacritics_prediction)\n",
    "print(\"Diacritic Error Rate = \", diacritic_error_rate, \"%\")\n",
    "print(\"Diacritic Correct Rate = \", 100 - diacritic_error_rate, \"%\")\n",
    "print(\"Number of Misclassified = \", number_of_mis_classified, \"out of\", number_of_char_to_classify)"
   ]
  }
 ],
 "metadata": {
  "kernelspec": {
   "display_name": "base",
   "language": "python",
   "name": "python3"
  },
  "language_info": {
   "codemirror_mode": {
    "name": "ipython",
    "version": 3
   },
   "file_extension": ".py",
   "mimetype": "text/x-python",
   "name": "python",
   "nbconvert_exporter": "python",
   "pygments_lexer": "ipython3",
   "version": "3.11.5"
  }
 },
 "nbformat": 4,
 "nbformat_minor": 2
}
